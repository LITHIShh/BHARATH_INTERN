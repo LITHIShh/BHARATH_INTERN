{
 "cells": [
  {
   "cell_type": "code",
   "execution_count": 7,
   "metadata": {},
   "outputs": [],
   "source": [
    "\n",
    "\n",
    "import numpy as np # linear algebra\n",
    "import pandas as pd # data processing, CSV file I/O (e.g. pd.read_csv)\n",
    "import numpy as np \n",
    "import pandas as pd\n",
    "import re\n",
    "from collections import defaultdict\n",
    "from math import log, exp\n",
    "import nltk\n",
    "from math import *\n",
    "\n",
    "\n"
   ]
  },
  {
   "cell_type": "code",
   "execution_count": 8,
   "metadata": {},
   "outputs": [
    {
     "data": {
      "text/html": [
       "<div>\n",
       "<style scoped>\n",
       "    .dataframe tbody tr th:only-of-type {\n",
       "        vertical-align: middle;\n",
       "    }\n",
       "\n",
       "    .dataframe tbody tr th {\n",
       "        vertical-align: top;\n",
       "    }\n",
       "\n",
       "    .dataframe thead th {\n",
       "        text-align: right;\n",
       "    }\n",
       "</style>\n",
       "<table border=\"1\" class=\"dataframe\">\n",
       "  <thead>\n",
       "    <tr style=\"text-align: right;\">\n",
       "      <th></th>\n",
       "      <th>v1</th>\n",
       "      <th>v2</th>\n",
       "      <th>Unnamed: 2</th>\n",
       "      <th>Unnamed: 3</th>\n",
       "      <th>Unnamed: 4</th>\n",
       "    </tr>\n",
       "  </thead>\n",
       "  <tbody>\n",
       "    <tr>\n",
       "      <th>0</th>\n",
       "      <td>ham</td>\n",
       "      <td>Go until jurong point, crazy.. Available only ...</td>\n",
       "      <td>NaN</td>\n",
       "      <td>NaN</td>\n",
       "      <td>NaN</td>\n",
       "    </tr>\n",
       "    <tr>\n",
       "      <th>1</th>\n",
       "      <td>ham</td>\n",
       "      <td>Ok lar... Joking wif u oni...</td>\n",
       "      <td>NaN</td>\n",
       "      <td>NaN</td>\n",
       "      <td>NaN</td>\n",
       "    </tr>\n",
       "    <tr>\n",
       "      <th>2</th>\n",
       "      <td>spam</td>\n",
       "      <td>Free entry in 2 a wkly comp to win FA Cup fina...</td>\n",
       "      <td>NaN</td>\n",
       "      <td>NaN</td>\n",
       "      <td>NaN</td>\n",
       "    </tr>\n",
       "    <tr>\n",
       "      <th>3</th>\n",
       "      <td>ham</td>\n",
       "      <td>U dun say so early hor... U c already then say...</td>\n",
       "      <td>NaN</td>\n",
       "      <td>NaN</td>\n",
       "      <td>NaN</td>\n",
       "    </tr>\n",
       "    <tr>\n",
       "      <th>4</th>\n",
       "      <td>ham</td>\n",
       "      <td>Nah I don't think he goes to usf, he lives aro...</td>\n",
       "      <td>NaN</td>\n",
       "      <td>NaN</td>\n",
       "      <td>NaN</td>\n",
       "    </tr>\n",
       "  </tbody>\n",
       "</table>\n",
       "</div>"
      ],
      "text/plain": [
       "     v1                                                 v2 Unnamed: 2  \\\n",
       "0   ham  Go until jurong point, crazy.. Available only ...        NaN   \n",
       "1   ham                      Ok lar... Joking wif u oni...        NaN   \n",
       "2  spam  Free entry in 2 a wkly comp to win FA Cup fina...        NaN   \n",
       "3   ham  U dun say so early hor... U c already then say...        NaN   \n",
       "4   ham  Nah I don't think he goes to usf, he lives aro...        NaN   \n",
       "\n",
       "  Unnamed: 3 Unnamed: 4  \n",
       "0        NaN        NaN  \n",
       "1        NaN        NaN  \n",
       "2        NaN        NaN  \n",
       "3        NaN        NaN  \n",
       "4        NaN        NaN  "
      ]
     },
     "metadata": {},
     "output_type": "display_data"
    },
    {
     "name": "stdout",
     "output_type": "stream",
     "text": [
      "<class 'pandas.core.frame.DataFrame'>\n",
      "RangeIndex: 5572 entries, 0 to 5571\n",
      "Data columns (total 5 columns):\n",
      " #   Column      Non-Null Count  Dtype \n",
      "---  ------      --------------  ----- \n",
      " 0   v1          5572 non-null   object\n",
      " 1   v2          5572 non-null   object\n",
      " 2   Unnamed: 2  50 non-null     object\n",
      " 3   Unnamed: 3  12 non-null     object\n",
      " 4   Unnamed: 4  6 non-null      object\n",
      "dtypes: object(5)\n",
      "memory usage: 217.8+ KB\n",
      "None\n"
     ]
    }
   ],
   "source": [
    "# Load the dataset\n",
    "spam_data = pd.read_csv('spam (2).csv',encoding = 'latin-1')\n",
    "\n",
    "# Display the first few rows of the dataframe\n",
    "display(spam_data.head())\n",
    "\n",
    "# Display basic information about the dataset\n",
    "print(spam_data.info())"
   ]
  },
  {
   "cell_type": "code",
   "execution_count": 9,
   "metadata": {},
   "outputs": [
    {
     "data": {
      "text/plain": [
       "0"
      ]
     },
     "execution_count": 9,
     "metadata": {},
     "output_type": "execute_result"
    }
   ],
   "source": [
    "data= spam_data.drop_duplicates(keep='first')\n",
    "data.duplicated().sum()"
   ]
  },
  {
   "cell_type": "code",
   "execution_count": 10,
   "metadata": {},
   "outputs": [
    {
     "name": "stderr",
     "output_type": "stream",
     "text": [
      "C:\\Users\\Lithish r\\AppData\\Local\\Temp\\ipykernel_45828\\2052052726.py:8: SettingWithCopyWarning: \n",
      "A value is trying to be set on a copy of a slice from a DataFrame.\n",
      "Try using .loc[row_indexer,col_indexer] = value instead\n",
      "\n",
      "See the caveats in the documentation: https://pandas.pydata.org/pandas-docs/stable/user_guide/indexing.html#returning-a-view-versus-a-copy\n",
      "  data.loc[:, \"Clean_Text\"] = data[\"v2\"].apply(clean_text)\n"
     ]
    }
   ],
   "source": [
    "def clean_text(text):\n",
    "    clean = re.sub('[^a-zA-Z]', ' ', text) # Replacing all non-alphabetic characters with a space\n",
    "    clean = clean.lower() # converting to lowecase\n",
    "    clean = clean.split() # splits the cleaned text sms into a list of words\n",
    "    clean = ' '.join(clean) # joins the list of words back into a string, using a single space as the separator between the words\n",
    "    return clean\n",
    "\n",
    "data.loc[:, \"Clean_Text\"] = data[\"v2\"].apply(clean_text)"
   ]
  },
  {
   "cell_type": "code",
   "execution_count": 11,
   "metadata": {},
   "outputs": [
    {
     "data": {
      "text/plain": [
       "0       Go until jurong point, crazy.. Available only ...\n",
       "1                           Ok lar... Joking wif u oni...\n",
       "2       Free entry in 2 a wkly comp to win FA Cup fina...\n",
       "3       U dun say so early hor... U c already then say...\n",
       "4       Nah I don't think he goes to usf, he lives aro...\n",
       "                              ...                        \n",
       "5567    This is the 2nd time we have tried 2 contact u...\n",
       "5568                Will Ì_ b going to esplanade fr home?\n",
       "5569    Pity, * was in mood for that. So...any other s...\n",
       "5570    The guy did some bitching but I acted like i'd...\n",
       "5571                           Rofl. Its true to its name\n",
       "Name: v2, Length: 5572, dtype: object"
      ]
     },
     "execution_count": 11,
     "metadata": {},
     "output_type": "execute_result"
    }
   ],
   "source": [
    "messages = spam_data['v2']\n",
    "messages"
   ]
  },
  {
   "cell_type": "code",
   "execution_count": 12,
   "metadata": {},
   "outputs": [
    {
     "data": {
      "text/plain": [
       "0        ham\n",
       "1        ham\n",
       "2       spam\n",
       "3        ham\n",
       "4        ham\n",
       "        ... \n",
       "5567    spam\n",
       "5568     ham\n",
       "5569     ham\n",
       "5570     ham\n",
       "5571     ham\n",
       "Name: v1, Length: 5572, dtype: object"
      ]
     },
     "execution_count": 12,
     "metadata": {},
     "output_type": "execute_result"
    }
   ],
   "source": [
    "labels = spam_data['v1']\n",
    "labels"
   ]
  },
  {
   "cell_type": "code",
   "execution_count": 13,
   "metadata": {},
   "outputs": [
    {
     "name": "stdout",
     "output_type": "stream",
     "text": [
      "Spam probability: 0.9999942104611959\n"
     ]
    }
   ],
   "source": [
    "\n",
    "class BayesianSpamFilter:\n",
    "    def __init__(self):\n",
    "        self.spam_word_counts = defaultdict(int)\n",
    "        self.ham_word_counts = defaultdict(int)\n",
    "        self.total_spam_words = 0\n",
    "        self.total_ham_words = 0\n",
    "        self.total_spam_messages = 0\n",
    "        self.total_ham_messages = 0\n",
    "\n",
    "    def train(self, messages, labels):\n",
    "        for message, label in zip(messages, labels):\n",
    "            words = self.extract_words(message)\n",
    "            if label == 'spam':\n",
    "                self.total_spam_messages += 1\n",
    "                for word in words:\n",
    "                    self.spam_word_counts[word] += 1\n",
    "                    self.total_spam_words += 1\n",
    "            else:\n",
    "                self.total_ham_messages += 1\n",
    "                for word in words:\n",
    "                    self.ham_word_counts[word] += 1\n",
    "                    self.total_ham_words += 1\n",
    "\n",
    "    def extract_words(self, message):\n",
    "        return re.findall(r'\\b\\w+\\b', message.lower())\n",
    "\n",
    "    def calculate_word_probabilities(self, message):\n",
    "        words = self.extract_words(message)\n",
    "        log_spam_probability = log(self.total_spam_messages / (self.total_spam_messages + self.total_ham_messages))\n",
    "        log_ham_probability = log(self.total_ham_messages / (self.total_spam_messages + self.total_ham_messages))\n",
    "        for word in words:\n",
    "            # Laplace smoothing\n",
    "            spam_word_probability = (self.spam_word_counts[word] + 1) / (self.total_spam_words + 2)\n",
    "            ham_word_probability = (self.ham_word_counts[word] + 1) / (self.total_ham_words + 2)\n",
    "            log_spam_probability += log(spam_word_probability)\n",
    "            log_ham_probability += log(ham_word_probability)\n",
    "        return log_spam_probability, log_ham_probability\n",
    "\n",
    "    def classify(self, message):\n",
    "        log_spam_probability, log_ham_probability = self.calculate_word_probabilities(message)\n",
    "\n",
    "        probability_difference = log_spam_probability - log_ham_probability\n",
    "        spam_probability = 1 / (1 + exp(-probability_difference))\n",
    "        return spam_probability\n",
    "filter = BayesianSpamFilter()\n",
    "filter.train(messages, labels)\n",
    "test_message = \"Free entry in 2 a wkly comp\"\n",
    "spam_probability = filter.classify(test_message)\n",
    "print(\"Spam probability:\", spam_probability)\n",
    "\n",
    "\n",
    "\n",
    "\n"
   ]
  },
  {
   "cell_type": "code",
   "execution_count": 14,
   "metadata": {},
   "outputs": [],
   "source": [
    "import re\n",
    "\n",
    "class HeuristicSpamFilter:\n",
    "    def __init__(self):\n",
    "        self.suspicious_keywords = ['free', 'buy now', 'winner', 'guaranteed', 'act now']\n",
    "        self.spammy_patterns = [r'\\b\\d{4,}\\b']  # Example: 4 or more consecutive digits\n",
    "        # Adding a simple regex pattern to identify URLs; this can be enhanced for more robust detection\n",
    "        self.url_pattern = r'https?://(?:[-\\w.]|(?:%[\\da-fA-F]{2}))+'\n",
    "\n",
    "    def check_keywords(self, message):\n",
    "        for keyword in self.suspicious_keywords:\n",
    "            if keyword in message.lower():\n",
    "                return True\n",
    "        return False\n",
    "\n",
    "    def check_structure(self, message):\n",
    "        for pattern in self.spammy_patterns:\n",
    "            if re.search(pattern, message):\n",
    "                return True\n",
    "        return False\n",
    "\n",
    "    def check_urls(self, message):\n",
    "        return re.search(self.url_pattern, message) is not None\n",
    "\n",
    "    def is_spam(self, message):\n",
    "        if self.check_keywords(message):\n",
    "            return 'spam'\n",
    "        if self.check_structure(message):\n",
    "            return 'spam'\n",
    "        if self.check_urls(message):\n",
    "            return 'spam'\n",
    "        return 'ham'"
   ]
  },
  {
   "cell_type": "code",
   "execution_count": 15,
   "metadata": {},
   "outputs": [
    {
     "name": "stdout",
     "output_type": "stream",
     "text": [
      "0.970208183776023\n"
     ]
    }
   ],
   "source": [
    "filterh = HeuristicSpamFilter()\n",
    "\n",
    "# Apply the filter to classify each SMS message\n",
    "spam = messages.apply(filterh.is_spam)\n",
    "accuracy = (spam == labels).mean()\n",
    "# Display the classified messages\n",
    "print(accuracy )"
   ]
  },
  {
   "cell_type": "code",
   "execution_count": 16,
   "metadata": {},
   "outputs": [
    {
     "name": "stdout",
     "output_type": "stream",
     "text": [
      "0       ham\n",
      "1       ham\n",
      "2       ham\n",
      "3       ham\n",
      "4       ham\n",
      "       ... \n",
      "5567    ham\n",
      "5568    ham\n",
      "5569    ham\n",
      "5570    ham\n",
      "5571    ham\n",
      "Name: v2, Length: 5572, dtype: object\n"
     ]
    }
   ],
   "source": [
    "import pandas as pd\n",
    "\n",
    "class CollaborativeSpamFilter:\n",
    "    def __init__(self):\n",
    "        self.spam_reports = {}  # Dictionary to store spam reports for each message\n",
    "\n",
    "    def report_spam(self, message):\n",
    "        if message in self.spam_reports:\n",
    "            self.spam_reports[message] += 1\n",
    "        else:\n",
    "            self.spam_reports[message] = 1\n",
    "\n",
    "    def is_spam(self, message, threshold=3):\n",
    "        if message in self.spam_reports:\n",
    "            if self.spam_reports[message] >= threshold:\n",
    "                return 'spam'\n",
    "            else:\n",
    "                return 'ham'\n",
    "        return 'ham'\n",
    "\n",
    "# Example usage\n",
    "filter = CollaborativeSpamFilter()\n",
    "\n",
    "# Load the SMS spam dataset  # Update with the actual filename and path\n",
    "\n",
    "# Choose messages labeled as spam to add to the report\n",
    "spam_messages = messages[labels == 'spam']\n",
    "\n",
    "# Simulate user feedback by reporting spam messages\n",
    "for message in spam_messages:\n",
    "    filter.report_spam(message)\n",
    "\n",
    "# Apply the filter to classify messages\n",
    "isspam = messages.apply(lambda message: filter.is_spam(message))\n",
    "\n",
    "# Display the classified messages\n",
    "print(isspam)"
   ]
  },
  {
   "cell_type": "code",
   "execution_count": 17,
   "metadata": {},
   "outputs": [
    {
     "name": "stdout",
     "output_type": "stream",
     "text": [
      "0.8693467336683417\n"
     ]
    }
   ],
   "source": [
    "accuracy = (isspam == labels).mean()\n",
    "# Display the classified messages\n",
    "print(accuracy )\n"
   ]
  },
  {
   "cell_type": "code",
   "execution_count": null,
   "metadata": {},
   "outputs": [],
   "source": []
  }
 ],
 "metadata": {
  "kernelspec": {
   "display_name": "Python 3",
   "language": "python",
   "name": "python3"
  },
  "language_info": {
   "codemirror_mode": {
    "name": "ipython",
    "version": 3
   },
   "file_extension": ".py",
   "mimetype": "text/x-python",
   "name": "python",
   "nbconvert_exporter": "python",
   "pygments_lexer": "ipython3",
   "version": "3.11.0"
  }
 },
 "nbformat": 4,
 "nbformat_minor": 2
}
